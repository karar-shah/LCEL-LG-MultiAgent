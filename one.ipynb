{
 "cells": [
  {
   "cell_type": "markdown",
   "metadata": {},
   "source": [
    "# Test Runs:\n",
    "Just checking if APIs are working"
   ]
  },
  {
   "cell_type": "code",
   "execution_count": 1,
   "metadata": {},
   "outputs": [
    {
     "name": "stdout",
     "output_type": "stream",
     "text": [
      "Note: you may need to restart the kernel to use updated packages.\n"
     ]
    }
   ],
   "source": [
    "%pip install --upgrade --quiet  langchain-core langchain-community langchain-openai"
   ]
  },
  {
   "cell_type": "code",
   "execution_count": 1,
   "metadata": {},
   "outputs": [
    {
     "name": "stdout",
     "output_type": "stream",
     "text": [
      "Note: you may need to restart the kernel to use updated packages.\n"
     ]
    }
   ],
   "source": [
    "%pip install -qU langchain-openai"
   ]
  },
  {
   "cell_type": "code",
   "execution_count": 5,
   "metadata": {},
   "outputs": [],
   "source": [
    "# import os\n",
    "# from dotenv import load_dotenv\n",
    "\n",
    "# # Load environment variables from .env file\n",
    "# load_dotenv()\n",
    "\n",
    "# # Retrieve the API key from environment variables\n",
    "# api_key = os.getenv(\"OPENAI_API_KEY\")"
   ]
  },
  {
   "cell_type": "code",
   "execution_count": 4,
   "metadata": {},
   "outputs": [],
   "source": [
    "from langchain_openai import ChatOpenAI\n",
    "\n",
    "model = ChatOpenAI(model=\"gpt-3.5-turbo\", )"
   ]
  },
  {
   "cell_type": "code",
   "execution_count": 6,
   "metadata": {},
   "outputs": [
    {
     "data": {
      "text/plain": [
       "'Why did the ice cream truck break down?\\n\\nBecause it had too many \"scoops\"!'"
      ]
     },
     "execution_count": 6,
     "metadata": {},
     "output_type": "execute_result"
    }
   ],
   "source": [
    "from langchain_core.output_parsers import StrOutputParser\n",
    "from langchain_core.prompts import ChatPromptTemplate\n",
    "\n",
    "prompt = ChatPromptTemplate.from_template(\"tell me a short joke about {topic}\")\n",
    "output_parser = StrOutputParser()\n",
    "\n",
    "chain = prompt | model | output_parser\n",
    "\n",
    "chain.invoke({\"topic\": \"ice cream\"})"
   ]
  },
  {
   "cell_type": "markdown",
   "metadata": {},
   "source": [
    "# Math Agent using LCEL:"
   ]
  },
  {
   "cell_type": "code",
   "execution_count": 1,
   "metadata": {},
   "outputs": [
    {
     "name": "stdout",
     "output_type": "stream",
     "text": [
      "subtract\n",
      "Subtract two numbers.\n",
      "{'a': {'title': 'A', 'type': 'integer'}, 'b': {'title': 'B', 'type': 'integer'}}\n"
     ]
    }
   ],
   "source": [
    "from langchain_core.tools import tool\n",
    "\n",
    "\n",
    "@tool\n",
    "def multiply(a: int, b: int) -> int:\n",
    "    \"\"\"Multiply two numbers.\"\"\"\n",
    "    return a * b\n",
    "\n",
    "@tool\n",
    "def divide(a: int, b: int) -> int:\n",
    "    \"\"\"Divide two numbers.\"\"\"\n",
    "    return a / b\n",
    "\n",
    "@tool\n",
    "def sum(a: int, b: int) -> int:\n",
    "    \"\"\"Sum two numbers.\"\"\"\n",
    "    return a + b\n",
    "\n",
    "@tool\n",
    "def subtract(a: int, b: int) -> int:\n",
    "    \"\"\"Subtract two numbers.\"\"\"\n",
    "    return a - b\n",
    "\n",
    "# Compile tools into a list\n",
    "math_tools = [multiply, divide, sum, subtract]\n",
    "\n",
    "\n",
    "print(subtract.name)\n",
    "print(subtract.description)\n",
    "print(subtract.args)"
   ]
  },
  {
   "cell_type": "code",
   "execution_count": 10,
   "metadata": {},
   "outputs": [],
   "source": [
    "from langchain_openai import ChatOpenAI\n",
    "\n",
    "llm = ChatOpenAI(model=\"gpt-3.5-turbo\", temperature=0,)\n",
    "llm_with_tools = llm.bind_tools(math_tools)"
   ]
  },
  {
   "cell_type": "code",
   "execution_count": 15,
   "metadata": {},
   "outputs": [],
   "source": [
    "from langchain_core.prompts import ChatPromptTemplate, MessagesPlaceholder\n",
    "\n",
    "prompt = ChatPromptTemplate.from_messages(\n",
    "    [\n",
    "        (\n",
    "            \"system\",\n",
    "            \"You are very powerful assistant and you respond to the user in a friendly manner.\",\n",
    "        ),\n",
    "        (\"user\", \"{input}\"),\n",
    "        MessagesPlaceholder(variable_name=\"agent_scratchpad\"),\n",
    "    ]\n",
    ")"
   ]
  },
  {
   "cell_type": "code",
   "execution_count": 16,
   "metadata": {},
   "outputs": [],
   "source": [
    "from langchain.agents.format_scratchpad.openai_tools import format_to_openai_tool_messages\n",
    "from langchain.agents.output_parsers.openai_tools import OpenAIToolsAgentOutputParser\n",
    "\n",
    "agent = (\n",
    "    {\n",
    "        \"input\": lambda x: x[\"input\"],\n",
    "        \"agent_scratchpad\": lambda x: format_to_openai_tool_messages(\n",
    "            x[\"intermediate_steps\"]\n",
    "        ),\n",
    "    }\n",
    "    | prompt\n",
    "    | llm_with_tools\n",
    "    | OpenAIToolsAgentOutputParser()\n",
    ")"
   ]
  },
  {
   "cell_type": "code",
   "execution_count": 17,
   "metadata": {},
   "outputs": [],
   "source": [
    "from langchain.agents import AgentExecutor\n",
    "\n",
    "agent_executor = AgentExecutor(agent=agent, tools=math_tools, verbose=True)"
   ]
  },
  {
   "cell_type": "code",
   "execution_count": 20,
   "metadata": {},
   "outputs": [
    {
     "name": "stdout",
     "output_type": "stream",
     "text": [
      "\n",
      "\n",
      "\u001b[1m> Entering new AgentExecutor chain...\u001b[0m\n",
      "\u001b[32;1m\u001b[1;3m\n",
      "Invoking: `subtract` with `{'a': 9, 'b': 5}`\n",
      "\n",
      "\n",
      "\u001b[0m\u001b[36;1m\u001b[1;3m4\u001b[0m\u001b[32;1m\u001b[1;3m\n",
      "Invoking: `sum` with `{'a': 4, 'b': 1}`\n",
      "\n",
      "\n",
      "\u001b[0m\u001b[38;5;200m\u001b[1;3m5\u001b[0m\u001b[32;1m\u001b[1;3mSubtracting 5 from 9 gives us 4. Adding 1 to 4 results in 5.\u001b[0m\n",
      "\n",
      "\u001b[1m> Finished chain.\u001b[0m\n"
     ]
    },
    {
     "data": {
      "text/plain": [
       "[{'actions': [ToolAgentAction(tool='subtract', tool_input={'a': 9, 'b': 5}, log=\"\\nInvoking: `subtract` with `{'a': 9, 'b': 5}`\\n\\n\\n\", message_log=[AIMessageChunk(content='', additional_kwargs={'tool_calls': [{'index': 0, 'id': 'call_X93nxISTLrffxvxDN5agMr3q', 'function': {'arguments': '{\"a\": 9, \"b\": 5}', 'name': 'subtract'}, 'type': 'function'}, {'index': 1, 'id': 'call_hb5POJk2ahInfMKQZqop2Qlj', 'function': {'arguments': '{\"a\": 4, \"b\": 1}', 'name': 'sum'}, 'type': 'function'}]}, response_metadata={'finish_reason': 'tool_calls', 'model_name': 'gpt-3.5-turbo-0125'}, id='run-ec72c4c4-4466-4d07-a40d-cca583211e50', tool_calls=[{'name': 'subtract', 'args': {'a': 9, 'b': 5}, 'id': 'call_X93nxISTLrffxvxDN5agMr3q'}, {'name': 'sum', 'args': {'a': 4, 'b': 1}, 'id': 'call_hb5POJk2ahInfMKQZqop2Qlj'}], tool_call_chunks=[{'name': 'subtract', 'args': '{\"a\": 9, \"b\": 5}', 'id': 'call_X93nxISTLrffxvxDN5agMr3q', 'index': 0}, {'name': 'sum', 'args': '{\"a\": 4, \"b\": 1}', 'id': 'call_hb5POJk2ahInfMKQZqop2Qlj', 'index': 1}])], tool_call_id='call_X93nxISTLrffxvxDN5agMr3q')],\n",
       "  'messages': [AIMessageChunk(content='', additional_kwargs={'tool_calls': [{'index': 0, 'id': 'call_X93nxISTLrffxvxDN5agMr3q', 'function': {'arguments': '{\"a\": 9, \"b\": 5}', 'name': 'subtract'}, 'type': 'function'}, {'index': 1, 'id': 'call_hb5POJk2ahInfMKQZqop2Qlj', 'function': {'arguments': '{\"a\": 4, \"b\": 1}', 'name': 'sum'}, 'type': 'function'}]}, response_metadata={'finish_reason': 'tool_calls', 'model_name': 'gpt-3.5-turbo-0125'}, id='run-ec72c4c4-4466-4d07-a40d-cca583211e50', tool_calls=[{'name': 'subtract', 'args': {'a': 9, 'b': 5}, 'id': 'call_X93nxISTLrffxvxDN5agMr3q'}, {'name': 'sum', 'args': {'a': 4, 'b': 1}, 'id': 'call_hb5POJk2ahInfMKQZqop2Qlj'}], tool_call_chunks=[{'name': 'subtract', 'args': '{\"a\": 9, \"b\": 5}', 'id': 'call_X93nxISTLrffxvxDN5agMr3q', 'index': 0}, {'name': 'sum', 'args': '{\"a\": 4, \"b\": 1}', 'id': 'call_hb5POJk2ahInfMKQZqop2Qlj', 'index': 1}])]},\n",
       " {'actions': [ToolAgentAction(tool='sum', tool_input={'a': 4, 'b': 1}, log=\"\\nInvoking: `sum` with `{'a': 4, 'b': 1}`\\n\\n\\n\", message_log=[AIMessageChunk(content='', additional_kwargs={'tool_calls': [{'index': 0, 'id': 'call_X93nxISTLrffxvxDN5agMr3q', 'function': {'arguments': '{\"a\": 9, \"b\": 5}', 'name': 'subtract'}, 'type': 'function'}, {'index': 1, 'id': 'call_hb5POJk2ahInfMKQZqop2Qlj', 'function': {'arguments': '{\"a\": 4, \"b\": 1}', 'name': 'sum'}, 'type': 'function'}]}, response_metadata={'finish_reason': 'tool_calls', 'model_name': 'gpt-3.5-turbo-0125'}, id='run-ec72c4c4-4466-4d07-a40d-cca583211e50', tool_calls=[{'name': 'subtract', 'args': {'a': 9, 'b': 5}, 'id': 'call_X93nxISTLrffxvxDN5agMr3q'}, {'name': 'sum', 'args': {'a': 4, 'b': 1}, 'id': 'call_hb5POJk2ahInfMKQZqop2Qlj'}], tool_call_chunks=[{'name': 'subtract', 'args': '{\"a\": 9, \"b\": 5}', 'id': 'call_X93nxISTLrffxvxDN5agMr3q', 'index': 0}, {'name': 'sum', 'args': '{\"a\": 4, \"b\": 1}', 'id': 'call_hb5POJk2ahInfMKQZqop2Qlj', 'index': 1}])], tool_call_id='call_hb5POJk2ahInfMKQZqop2Qlj')],\n",
       "  'messages': [AIMessageChunk(content='', additional_kwargs={'tool_calls': [{'index': 0, 'id': 'call_X93nxISTLrffxvxDN5agMr3q', 'function': {'arguments': '{\"a\": 9, \"b\": 5}', 'name': 'subtract'}, 'type': 'function'}, {'index': 1, 'id': 'call_hb5POJk2ahInfMKQZqop2Qlj', 'function': {'arguments': '{\"a\": 4, \"b\": 1}', 'name': 'sum'}, 'type': 'function'}]}, response_metadata={'finish_reason': 'tool_calls', 'model_name': 'gpt-3.5-turbo-0125'}, id='run-ec72c4c4-4466-4d07-a40d-cca583211e50', tool_calls=[{'name': 'subtract', 'args': {'a': 9, 'b': 5}, 'id': 'call_X93nxISTLrffxvxDN5agMr3q'}, {'name': 'sum', 'args': {'a': 4, 'b': 1}, 'id': 'call_hb5POJk2ahInfMKQZqop2Qlj'}], tool_call_chunks=[{'name': 'subtract', 'args': '{\"a\": 9, \"b\": 5}', 'id': 'call_X93nxISTLrffxvxDN5agMr3q', 'index': 0}, {'name': 'sum', 'args': '{\"a\": 4, \"b\": 1}', 'id': 'call_hb5POJk2ahInfMKQZqop2Qlj', 'index': 1}])]},\n",
       " {'steps': [AgentStep(action=ToolAgentAction(tool='subtract', tool_input={'a': 9, 'b': 5}, log=\"\\nInvoking: `subtract` with `{'a': 9, 'b': 5}`\\n\\n\\n\", message_log=[AIMessageChunk(content='', additional_kwargs={'tool_calls': [{'index': 0, 'id': 'call_X93nxISTLrffxvxDN5agMr3q', 'function': {'arguments': '{\"a\": 9, \"b\": 5}', 'name': 'subtract'}, 'type': 'function'}, {'index': 1, 'id': 'call_hb5POJk2ahInfMKQZqop2Qlj', 'function': {'arguments': '{\"a\": 4, \"b\": 1}', 'name': 'sum'}, 'type': 'function'}]}, response_metadata={'finish_reason': 'tool_calls', 'model_name': 'gpt-3.5-turbo-0125'}, id='run-ec72c4c4-4466-4d07-a40d-cca583211e50', tool_calls=[{'name': 'subtract', 'args': {'a': 9, 'b': 5}, 'id': 'call_X93nxISTLrffxvxDN5agMr3q'}, {'name': 'sum', 'args': {'a': 4, 'b': 1}, 'id': 'call_hb5POJk2ahInfMKQZqop2Qlj'}], tool_call_chunks=[{'name': 'subtract', 'args': '{\"a\": 9, \"b\": 5}', 'id': 'call_X93nxISTLrffxvxDN5agMr3q', 'index': 0}, {'name': 'sum', 'args': '{\"a\": 4, \"b\": 1}', 'id': 'call_hb5POJk2ahInfMKQZqop2Qlj', 'index': 1}])], tool_call_id='call_X93nxISTLrffxvxDN5agMr3q'), observation=4)],\n",
       "  'messages': [FunctionMessage(content='4', name='subtract')]},\n",
       " {'steps': [AgentStep(action=ToolAgentAction(tool='sum', tool_input={'a': 4, 'b': 1}, log=\"\\nInvoking: `sum` with `{'a': 4, 'b': 1}`\\n\\n\\n\", message_log=[AIMessageChunk(content='', additional_kwargs={'tool_calls': [{'index': 0, 'id': 'call_X93nxISTLrffxvxDN5agMr3q', 'function': {'arguments': '{\"a\": 9, \"b\": 5}', 'name': 'subtract'}, 'type': 'function'}, {'index': 1, 'id': 'call_hb5POJk2ahInfMKQZqop2Qlj', 'function': {'arguments': '{\"a\": 4, \"b\": 1}', 'name': 'sum'}, 'type': 'function'}]}, response_metadata={'finish_reason': 'tool_calls', 'model_name': 'gpt-3.5-turbo-0125'}, id='run-ec72c4c4-4466-4d07-a40d-cca583211e50', tool_calls=[{'name': 'subtract', 'args': {'a': 9, 'b': 5}, 'id': 'call_X93nxISTLrffxvxDN5agMr3q'}, {'name': 'sum', 'args': {'a': 4, 'b': 1}, 'id': 'call_hb5POJk2ahInfMKQZqop2Qlj'}], tool_call_chunks=[{'name': 'subtract', 'args': '{\"a\": 9, \"b\": 5}', 'id': 'call_X93nxISTLrffxvxDN5agMr3q', 'index': 0}, {'name': 'sum', 'args': '{\"a\": 4, \"b\": 1}', 'id': 'call_hb5POJk2ahInfMKQZqop2Qlj', 'index': 1}])], tool_call_id='call_hb5POJk2ahInfMKQZqop2Qlj'), observation=5)],\n",
       "  'messages': [FunctionMessage(content='5', name='sum')]},\n",
       " {'output': 'Subtracting 5 from 9 gives us 4. Adding 1 to 4 results in 5.',\n",
       "  'messages': [AIMessage(content='Subtracting 5 from 9 gives us 4. Adding 1 to 4 results in 5.')]}]"
      ]
     },
     "execution_count": 20,
     "metadata": {},
     "output_type": "execute_result"
    }
   ],
   "source": [
    "list(agent_executor.stream({\"input\": \"subtract 5 from 9 and then add 1 to the result\"}))\n",
    "\n"
   ]
  },
  {
   "cell_type": "code",
   "execution_count": 29,
   "metadata": {},
   "outputs": [
    {
     "name": "stdout",
     "output_type": "stream",
     "text": [
      "\n",
      "\n",
      "\u001b[1m> Entering new AgentExecutor chain...\u001b[0m\n",
      "\u001b[32;1m\u001b[1;3m\n",
      "Invoking: `sum` with `{'a': 4, 'b': 5}`\n",
      "\n",
      "\n",
      "\u001b[0m\u001b[38;5;200m\u001b[1;3m9\u001b[0m\u001b[32;1m\u001b[1;3m\n",
      "Invoking: `subtract` with `{'a': 9, 'b': 1}`\n",
      "\n",
      "\n",
      "\u001b[0m\u001b[36;1m\u001b[1;3m8\u001b[0m\u001b[32;1m\u001b[1;3mThe sum of 4 and 5 is 9. If we subtract 1 from 9, the result is 8.\u001b[0m\n",
      "\n",
      "\u001b[1m> Finished chain.\u001b[0m\n"
     ]
    },
    {
     "data": {
      "text/plain": [
       "{'input': 'add 4 and 5 then subtract 1 from the result',\n",
       " 'output': 'The sum of 4 and 5 is 9. If we subtract 1 from 9, the result is 8.'}"
      ]
     },
     "execution_count": 29,
     "metadata": {},
     "output_type": "execute_result"
    }
   ],
   "source": [
    "agent_executor.invoke({'input':'add 4 and 5 then subtract 1 from the result'})"
   ]
  },
  {
   "cell_type": "markdown",
   "metadata": {},
   "source": []
  },
  {
   "cell_type": "markdown",
   "metadata": {},
   "source": [
    "# LangGraph"
   ]
  },
  {
   "cell_type": "code",
   "execution_count": 31,
   "metadata": {},
   "outputs": [],
   "source": [
    "%%capture --no-stderr\n",
    "%pip install -U langchain langchain_openai langsmith pandas langchain_experimental matplotlib langgraph langchain_core"
   ]
  },
  {
   "cell_type": "code",
   "execution_count": 2,
   "metadata": {},
   "outputs": [],
   "source": [
    "from langchain_core.messages import (\n",
    "    BaseMessage,\n",
    "    HumanMessage,\n",
    "    ToolMessage,\n",
    ")\n",
    "from langchain_core.prompts import ChatPromptTemplate, MessagesPlaceholder\n",
    "\n",
    "from langgraph.graph import END, StateGraph\n",
    "\n",
    "\n",
    "def create_agent(llm, tools, system_message: str):\n",
    "    \"\"\"Create an agent.\"\"\"\n",
    "    prompt = ChatPromptTemplate.from_messages(\n",
    "        [\n",
    "            (\n",
    "                \"system\",\n",
    "                \"You are a helpful AI assistant, collaborating with other assistants.\"\n",
    "                \" Use the provided tools to progress towards answering the question.\"\n",
    "                \" If you are unable to fully answer, that's OK, another assistant with different tools \"\n",
    "                \" will help where you left off. Execute what you can to make progress.\"\n",
    "                \" If you or any of the other assistants have the final answer or deliverable,\"\n",
    "                \" prefix your response with FINAL ANSWER so the team knows to stop.\"\n",
    "                \" You have access to the following tools: {tool_names}.\\n{system_message}\",\n",
    "            ),\n",
    "            MessagesPlaceholder(variable_name=\"messages\"),\n",
    "        ]\n",
    "    )\n",
    "    prompt = prompt.partial(system_message=system_message)\n",
    "    prompt = prompt.partial(tool_names=\", \".join([tool.name for tool in tools]))\n",
    "    return prompt | llm.bind_tools(tools)"
   ]
  },
  {
   "cell_type": "code",
   "execution_count": 3,
   "metadata": {},
   "outputs": [],
   "source": [
    "from langchain_community.tools.tavily_search import TavilySearchResults\n",
    "from langchain_core.tools import tool\n",
    "\n",
    "tavily_tool = TavilySearchResults(max_results=3)"
   ]
  },
  {
   "cell_type": "code",
   "execution_count": 4,
   "metadata": {},
   "outputs": [],
   "source": [
    "import operator\n",
    "from typing import Annotated, Sequence, TypedDict\n",
    "\n",
    "from langchain_openai import ChatOpenAI\n",
    "\n",
    "\n",
    "# This defines the object that is passed between each node\n",
    "# in the graph. We will create different nodes for each agent and tool\n",
    "class AgentState(TypedDict):\n",
    "    messages: Annotated[Sequence[BaseMessage], operator.add]\n",
    "    sender: str"
   ]
  },
  {
   "cell_type": "code",
   "execution_count": 5,
   "metadata": {},
   "outputs": [],
   "source": [
    "import functools\n",
    "\n",
    "from langchain_core.messages import AIMessage\n",
    "\n",
    "\n",
    "# Helper function to create a node for a given agent\n",
    "def agent_node(state, agent, name):\n",
    "    result = agent.invoke(state)\n",
    "    # We convert the agent output into a format that is suitable to append to the global state\n",
    "    if isinstance(result, ToolMessage):\n",
    "        pass\n",
    "    else:\n",
    "        result = AIMessage(**result.dict(exclude={\"type\", \"name\"}), name=name)\n",
    "    return {\n",
    "        \"messages\": [result],\n",
    "        # Since we have a strict workflow, we can\n",
    "        # track the sender so we know who to pass to next.\n",
    "        \"sender\": name,\n",
    "    }\n",
    "\n",
    "\n",
    "llm = ChatOpenAI(model=\"gpt-3.5-turbo\", temperature=0)\n",
    "\n",
    "# Match calculation agent and node\n",
    "math_agent = create_agent(\n",
    "    llm,\n",
    "    math_tools,\n",
    "    system_message=\"Only run this is match calculation is demanded else ignore and move to Researcher.\",\n",
    ")\n",
    "math_node = functools.partial(agent_node, agent=math_agent, name=\"MathCalculator\")\n",
    "\n",
    "# Research agent and node\n",
    "research_agent = create_agent(\n",
    "    llm,\n",
    "    [tavily_tool],\n",
    "    system_message=\"You should provide accurate answer to the use based on the query asked.\",\n",
    ")\n",
    "research_node = functools.partial(agent_node, agent=research_agent, name=\"Researcher\")"
   ]
  },
  {
   "cell_type": "code",
   "execution_count": 6,
   "metadata": {},
   "outputs": [],
   "source": [
    "from langgraph.prebuilt import ToolNode\n",
    "\n",
    "tools = [tavily_tool, multiply, divide, sum, subtract]\n",
    "tool_node = ToolNode(tools)"
   ]
  },
  {
   "cell_type": "code",
   "execution_count": 7,
   "metadata": {},
   "outputs": [],
   "source": [
    "# Either agent can decide to end\n",
    "from typing import Literal\n",
    "\n",
    "\n",
    "def router(state) -> Literal[\"call_tool\", \"__end__\", \"continue\"]:\n",
    "    # This is the router\n",
    "    messages = state[\"messages\"]\n",
    "    last_message = messages[-1]\n",
    "    if last_message.tool_calls:\n",
    "        # The previous agent is invoking a tool\n",
    "        return \"call_tool\"\n",
    "    if \"FINAL ANSWER\" in last_message.content:\n",
    "        # Any agent decided the work is done\n",
    "        return \"__end__\"\n",
    "    return \"continue\""
   ]
  },
  {
   "cell_type": "code",
   "execution_count": 8,
   "metadata": {},
   "outputs": [],
   "source": [
    "workflow = StateGraph(AgentState)\n",
    "workflow.add_node(\"MathCalculator\", math_node)\n",
    "workflow.add_node(\"Researcher\", research_node)\n",
    "workflow.add_node(\"call_tool\", tool_node)\n",
    "\n",
    "workflow.add_conditional_edges(\n",
    "    'MathCalculator',\n",
    "    router,\n",
    "    {\"continue\": \"Researcher\", \"call_tool\": \"call_tool\", \"__end__\": END},\n",
    ")\n",
    "workflow.add_conditional_edges(\n",
    "    \"Researcher\",\n",
    "    router,\n",
    "    {\"continue\": END, \"call_tool\": \"call_tool\", \"__end__\": END},\n",
    ")\n",
    "\n",
    "workflow.add_conditional_edges(\n",
    "    \"call_tool\",\n",
    "    # Each agent node updates the 'sender' field\n",
    "    # the tool calling node does not, meaning\n",
    "    # this edge will route back to the original agent\n",
    "    # who invoked the tool\n",
    "    lambda x: x[\"sender\"],\n",
    "    {\n",
    "        \"Researcher\": \"Researcher\",\n",
    "        \"MathCalculator\": \"MathCalculator\",\n",
    "    },\n",
    ")\n",
    "workflow.set_entry_point(\"MathCalculator\")\n",
    "graph = workflow.compile()"
   ]
  },
  {
   "cell_type": "code",
   "execution_count": 9,
   "metadata": {},
   "outputs": [
    {
     "data": {
      "image/jpeg": "[encoded data removed]",
      "text/plain": [
       "<IPython.core.display.Image object>"
      ]
     },
     "metadata": {},
     "output_type": "display_data"
    }
   ],
   "source": [
    "from IPython.display import Image, display\n",
    "\n",
    "try:\n",
    "    display(Image(graph.get_graph(xray=True).draw_mermaid_png()))\n",
    "except Exception:\n",
    "    # This requires some extra dependencies and is optional\n",
    "    pass"
   ]
  },
  {
   "cell_type": "code",
   "execution_count": null,
   "metadata": {},
   "outputs": [],
   "source": []
  },
  {
   "cell_type": "code",
   "execution_count": 10,
   "metadata": {},
   "outputs": [
    {
     "name": "stdout",
     "output_type": "stream",
     "text": [
      "{'MathCalculator': {'messages': [AIMessage(content=\"I don't have the ability to browse the internet in real-time. However, I can provide information based on existing knowledge or tools available to me. Would you like me to proceed with that approach?\", response_metadata={'token_usage': {'completion_tokens': 41, 'prompt_tokens': 250, 'total_tokens': 291}, 'model_name': 'gpt-3.5-turbo-0125', 'system_fingerprint': None, 'finish_reason': 'stop', 'logprobs': None}, name='MathCalculator', id='run-c16ee665-aa36-400c-9a90-445a5dc2c13c-0', usage_metadata={'input_tokens': 250, 'output_tokens': 41, 'total_tokens': 291})], 'sender': 'MathCalculator'}}\n",
      "----\n",
      "{'Researcher': {'messages': [AIMessage(content='', additional_kwargs={'tool_calls': [{'id': 'call_xibRkWwAiqAd5s94Wbz82Hjm', 'function': {'arguments': '{\"query\":\"langchain usecase\"}', 'name': 'tavily_search_results_json'}, 'type': 'function'}]}, response_metadata={'token_usage': {'completion_tokens': 21, 'prompt_tokens': 263, 'total_tokens': 284}, 'model_name': 'gpt-3.5-turbo-0125', 'system_fingerprint': None, 'finish_reason': 'tool_calls', 'logprobs': None}, name='Researcher', id='run-a772d157-a11b-4899-b42e-07064f0d1320-0', tool_calls=[{'name': 'tavily_search_results_json', 'args': {'query': 'langchain usecase'}, 'id': 'call_xibRkWwAiqAd5s94Wbz82Hjm'}], usage_metadata={'input_tokens': 263, 'output_tokens': 21, 'total_tokens': 284})], 'sender': 'Researcher'}}\n",
      "----\n",
      "{'call_tool': {'messages': [ToolMessage(content='[{\"url\": \"https://python.langchain.com/v0.1/docs/use_cases/\", \"content\": \"Use cases. This section contains walkthroughs and techniques for common end-to-end use tasks. If you\\'re looking to build something specific or are more of a hands-on learner, try one out! While they reference building blocks that are explained in greater detail in other sections, we absolutely encourage folks to get started by going through ...\"}, {\"url\": \"https://js.langchain.com/v0.1/docs/use_cases/\", \"content\": \"Use cases. Walkthroughs of common end-to-end use cases. \\\\ud83d\\\\uddc3\\\\ufe0f SQL. 5 items. \\\\ud83d\\\\uddc3\\\\ufe0f Chatbots. 4 items. \\\\ud83d\\\\uddc3\\\\ufe0f Extraction. 3 items. \\\\ud83d\\\\uddc3\\\\ufe0f Query Analysis. 3 items. \\\\ud83d\\\\uddc3\\\\ufe0f Q&A with RAG. 8 items. \\\\ud83d\\\\uddc3\\\\ufe0f Tool use. 6 items. \\\\ud83d\\\\udcc4\\\\ufe0f Interacting with APIs. Lots of data and information is stored behind APIs.\"}, {\"url\": \"https://www.langchain.com/use-cases\", \"content\": \"The Elastic AI Assistant for security supports the security analyst workflow with alert summarization, workflow suggestions, query generation and conversion, and more.\\\\n Built with LangChain\\\\nTeams building with LangChain are driving operational efficiency, increasing discovery & personalization, and delivering premium products that generate revenue.\\\\n Instabase AI Hub powers intelligent solutions that understand any type of document, execute custom business logic, facilitate human review at every step, and integrate with industry-specific systems to support business decisions.\\\\n Morningstar\\'s Intelligence Engine Platform reads and recalls hundreds of thousands of research reports Morningstar produces and lets their customers ask questions to get unique market insights.\\\\n Realm-X automates critical real estate workflows and eliminates repetitive tasks, freeing up property managers to focus on more meaningful work like building resident connections and driving business performance.\\\\n\"}]', name='tavily_search_results_json', tool_call_id='call_xibRkWwAiqAd5s94Wbz82Hjm')]}}\n",
      "----\n",
      "{'Researcher': {'messages': [AIMessage(content=\"I found some information related to LangChain use cases:\\n\\n1. The LangChain documentation provides walkthroughs and techniques for common end-to-end use tasks. Users can try out specific tasks to build something and learn hands-on. The use cases reference building blocks explained in greater detail in other sections.\\n   Source: [LangChain Python Documentation - Use Cases](https://python.langchain.com/v0.1/docs/use_cases/)\\n\\n2. The LangChain JavaScript documentation includes walkthroughs of common end-to-end use cases such as SQL, Chatbots, Extraction, Query Analysis, Q&A with RAG, Tool use, and Interacting with APIs. These use cases cover various tasks and interactions with data stored behind APIs.\\n   Source: [LangChain JavaScript Documentation - Use Cases](https://js.langchain.com/v0.1/docs/use_cases/)\\n\\n3. LangChain is used in various applications such as the Elastic AI Assistant for security, Instabase AI Hub, Morningstar's Intelligence Engine Platform, and Realm-X. These applications leverage LangChain to support security analyst workflows, drive operational efficiency, increase discovery & personalization, deliver premium products, automate real estate workflows, and more.\\n   Source: [LangChain Use Cases](https://www.langchain.com/use-cases)\\n\\nWould you like more details on a specific use case or any other information related to LangChain?\", response_metadata={'token_usage': {'completion_tokens': 277, 'prompt_tokens': 748, 'total_tokens': 1025}, 'model_name': 'gpt-3.5-turbo-0125', 'system_fingerprint': None, 'finish_reason': 'stop', 'logprobs': None}, name='Researcher', id='run-570368f6-befd-4a58-a911-13be8edf452c-0', usage_metadata={'input_tokens': 748, 'output_tokens': 277, 'total_tokens': 1025})], 'sender': 'Researcher'}}\n",
      "----\n"
     ]
    }
   ],
   "source": [
    "events = graph.stream(\n",
    "    {\n",
    "        \"messages\": [\n",
    "            HumanMessage(\n",
    "                content=\"Search for 'langchain usecase' and once you find the answer show to user then, finish.\"\n",
    "            )\n",
    "        ],\n",
    "    },\n",
    "    # Maximum number of steps to take in the graph\n",
    "    {\"recursion_limit\": 150},\n",
    ")\n",
    "for s in events:\n",
    "    print(s)\n",
    "    print(\"----\")"
   ]
  },
  {
   "cell_type": "code",
   "execution_count": null,
   "metadata": {},
   "outputs": [],
   "source": []
  },
  {
   "cell_type": "code",
   "execution_count": null,
   "metadata": {},
   "outputs": [],
   "source": []
  },
  {
   "cell_type": "code",
   "execution_count": null,
   "metadata": {},
   "outputs": [],
   "source": []
  }
 ],
 "metadata": {
  "kernelspec": {
   "display_name": "openai",
   "language": "python",
   "name": "python3"
  },
  "language_info": {
   "codemirror_mode": {
    "name": "ipython",
    "version": 3
   },
   "file_extension": ".py",
   "mimetype": "text/x-python",
   "name": "python",
   "nbconvert_exporter": "python",
   "pygments_lexer": "ipython3",
   "version": "3.11.8"
  }
 },
 "nbformat": 4,
 "nbformat_minor": 2
}
